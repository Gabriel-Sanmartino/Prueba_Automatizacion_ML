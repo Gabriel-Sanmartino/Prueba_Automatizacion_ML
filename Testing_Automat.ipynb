{
 "cells": [
  {
   "cell_type": "code",
   "execution_count": 17,
   "metadata": {},
   "outputs": [],
   "source": [
    "import pandas as pd\n",
    "import pyodbc\n",
    "import csv"
   ]
  },
  {
   "cell_type": "code",
   "execution_count": 19,
   "metadata": {},
   "outputs": [],
   "source": [
    "df = pd.read_csv('Walmart_Sales.csv')"
   ]
  },
  {
   "cell_type": "code",
   "execution_count": 5,
   "metadata": {},
   "outputs": [
    {
     "name": "stdout",
     "output_type": "stream",
     "text": [
      "No hay valores nulos en el archivo CSV.\n",
      "Error en la conversión de tipos de datos: time data \"19-02-2010\" doesn't match format \"%m-%d-%Y\", at position 2. You might want to try:\n",
      "    - passing `format` if your strings have a consistent format;\n",
      "    - passing `format='ISO8601'` if your strings are all ISO8601 but not necessarily in exactly the same format;\n",
      "    - passing `format='mixed'`, and the format will be inferred for each element individually. You might want to use `dayfirst` alongside this.\n",
      "Los valores están dentro de los rangos esperados.\n"
     ]
    }
   ],
   "source": [
    "# Validar datos nulos\n",
    "if df.isnull().values.any():\n",
    "    print(\"Hay valores nulos en el archivo CSV.\")\n",
    "else:\n",
    "    print(\"No hay valores nulos en el archivo CSV.\")\n",
    "\n",
    "# Validar tipos de datos\n",
    "try:\n",
    "    df['Store'] = df['Store'].astype(int)\n",
    "    df['Date'] = pd.to_datetime(df['Date'])\n",
    "    df['Weekly_Sales'] = df['Weekly_Sales'].astype(float)\n",
    "    df['Holiday_Flag'] = df['Holiday_Flag'].astype(int)\n",
    "    df['Temperature'] = df['Temperature'].astype(float)\n",
    "    df['Fuel_Price'] = df['Fuel_Price'].astype(float)\n",
    "    df['CPI'] = df['CPI'].astype(float)\n",
    "    df['Unemployment'] = df['Unemployment'].astype(float)\n",
    "    print(\"Los tipos de datos son correctos.\")\n",
    "except ValueError as e:\n",
    "    print(f\"Error en la conversión de tipos de datos: {e}\")\n",
    "\n",
    "# Validar rangos de valores\n",
    "if (df['Holiday_Flag'].isin([0, 1]).all() and\n",
    "    df['Weekly_Sales'].min() >= 0 and\n",
    "    df['Fuel_Price'].min() >= 0 and\n",
    "    df['CPI'].min() >= 0 and\n",
    "    df['Unemployment'].min() >= 0):\n",
    "    print(\"Los valores están dentro de los rangos esperados.\")\n",
    "else:\n",
    "    print(\"Hay valores fuera de los rangos esperados.\")\n",
    "\n"
   ]
  },
  {
   "cell_type": "code",
   "execution_count": 7,
   "metadata": {},
   "outputs": [
    {
     "name": "stdout",
     "output_type": "stream",
     "text": [
      "Store                    int64\n",
      "Date            datetime64[ns]\n",
      "Weekly_Sales           float64\n",
      "Holiday_Flag             int64\n",
      "Temperature            float64\n",
      "Fuel_Price             float64\n",
      "CPI                    float64\n",
      "Unemployment           float64\n",
      "dtype: object\n"
     ]
    }
   ],
   "source": [
    "# Convertir la columna Date a tipo de dato fecha especificando el formato\n",
    "df['Date'] = pd.to_datetime(df['Date'], format='%d-%m-%Y')\n",
    "\n",
    "# Verificar la conversión\n",
    "print(df.dtypes)\n"
   ]
  },
  {
   "cell_type": "code",
   "execution_count": 14,
   "metadata": {},
   "outputs": [],
   "source": [
    "# Conectar a la base de datos SQL Server\n",
    "conn = pyodbc.connect(\n",
    "    'DRIVER={ODBC Driver 17 for SQL Server};'\n",
    "    'SERVER=DESKTOP-Q0M1776;'\n",
    "    'DATABASE=Automat_DB;'\n",
    "    'UID=sa;'\n",
    "    'PWD=gabdas'\n",
    ")\n",
    "\n",
    "# Crear un cursor\n",
    "cursor = conn.cursor()\n",
    "\n",
    "# Crear la tabla en SQL Server\n",
    "create_table_query = '''\n",
    "CREATE TABLE dbo.Walmart_Sales (\n",
    "    Store INT,\n",
    "    Date DATE,\n",
    "    Weekly_Sales DECIMAL(10, 2),\n",
    "    Holiday_Flag BIT,\n",
    "    Temperature DECIMAL(5, 2),\n",
    "    Fuel_Price DECIMAL(5, 2),\n",
    "    CPI DECIMAL(5, 2),\n",
    "    Unemployment DECIMAL(5, 2)\n",
    ");\n",
    "'''\n",
    "cursor.execute(create_table_query)\n",
    "\n",
    "# Leer el archivo CSV e insertar los datos en la tabla\n",
    "with open(r'C:\\Users\\Usuario\\Desktop\\Auto.P\\Walmart_Sales.csv', 'r') as file:\n",
    "    reader = csv.reader(file)\n",
    "    next(reader)  # Saltar la cabecera\n",
    "    for row in reader:\n",
    "        cursor.execute(\n",
    "            \"INSERT INTO dbo.Walmart_Sales (Store, Date, Weekly_Sales, Holiday_Flag, Temperature, Fuel_Price, CPI, Unemployment) VALUES (?, ?, ?, ?, ?, ?, ?, ?)\",\n",
    "            row[0], row[1], row[2], row[3], row[4], row[5], row[6], row[7]\n",
    "        )\n",
    "\n",
    "# Confirmar los cambios\n",
    "conn.commit()\n",
    "\n",
    "# Cerrar la conexión\n",
    "cursor.close()\n",
    "conn.close()\n"
   ]
  }
 ],
 "metadata": {
  "kernelspec": {
   "display_name": "Python 3",
   "language": "python",
   "name": "python3"
  },
  "language_info": {
   "codemirror_mode": {
    "name": "ipython",
    "version": 3
   },
   "file_extension": ".py",
   "mimetype": "text/x-python",
   "name": "python",
   "nbconvert_exporter": "python",
   "pygments_lexer": "ipython3",
   "version": "3.13.0"
  }
 },
 "nbformat": 4,
 "nbformat_minor": 2
}
