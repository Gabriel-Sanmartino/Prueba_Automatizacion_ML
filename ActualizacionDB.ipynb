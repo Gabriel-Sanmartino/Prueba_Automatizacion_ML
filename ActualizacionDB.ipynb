{
 "cells": [
  {
   "cell_type": "code",
   "execution_count": 1,
   "metadata": {},
   "outputs": [
    {
     "name": "stdout",
     "output_type": "stream",
     "text": [
      "Base de datos actualizada exitosamente.\n"
     ]
    }
   ],
   "source": [
    "import pandas as pd\n",
    "import pyodbc\n",
    "import csv\n",
    "\n",
    "# Leer el archivo CSV actualizado\n",
    "ruta_csv = r'C:\\Users\\Usuario\\Desktop\\Auto.P\\Walmart_Sales.csv'\n",
    "df = pd.read_csv(ruta_csv)\n",
    "\n",
    "# Conectar a la base de datos SQL Server\n",
    "conn = pyodbc.connect(\n",
    "    'DRIVER={ODBC Driver 17 for SQL Server};'\n",
    "    'SERVER=***************;'\n",
    "    'DATABASE=**********;'\n",
    "    'UID=**;'\n",
    "    'PWD=********'\n",
    ")\n",
    "\n",
    "# Crear un cursor\n",
    "cursor = conn.cursor()\n",
    "\n",
    "# Verificar e insertar solo las filas nuevas\n",
    "for index, row in df.iterrows():\n",
    "    # Verificar si la fila ya existe en la base de datos\n",
    "    cursor.execute(\n",
    "        \"SELECT COUNT(*) FROM dbo.Walmart_Sales WHERE Store = ? AND Date = ?\",\n",
    "        row['Store'], row['Date']\n",
    "    )\n",
    "    count = cursor.fetchone()[0]\n",
    "    \n",
    "    # Si la fila no existe, insertarla\n",
    "    if count == 0:\n",
    "        cursor.execute(\n",
    "            \"INSERT INTO dbo.Walmart_Sales (Store, Date, Weekly_Sales, Holiday_Flag, Temperature, Fuel_Price, CPI, Unemployment) VALUES (?, ?, ?, ?, ?, ?, ?, ?)\",\n",
    "            row['Store'], row['Date'], row['Weekly_Sales'], row['Holiday_Flag'], row['Temperature'], row['Fuel_Price'], row['CPI'], row['Unemployment']\n",
    "        )\n",
    "\n",
    "# Confirmar los cambios\n",
    "conn.commit()\n",
    "\n",
    "# Cerrar la conexión\n",
    "cursor.close()\n",
    "conn.close()\n",
    "\n",
    "print(\"Base de datos actualizada exitosamente.\")\n"
   ]
  }
 ],
 "metadata": {
  "kernelspec": {
   "display_name": "Python 3",
   "language": "python",
   "name": "python3"
  },
  "language_info": {
   "codemirror_mode": {
    "name": "ipython",
    "version": 3
   },
   "file_extension": ".py",
   "mimetype": "text/x-python",
   "name": "python",
   "nbconvert_exporter": "python",
   "pygments_lexer": "ipython3",
   "version": "3.13.0"
  }
 },
 "nbformat": 4,
 "nbformat_minor": 2
}
