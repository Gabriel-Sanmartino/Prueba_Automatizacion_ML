{
 "cells": [
  {
   "cell_type": "code",
   "execution_count": 7,
   "metadata": {},
   "outputs": [],
   "source": [
    "import pandas as pd\n",
    "\n",
    "# Datos de la nueva fila en formato de diccionario\n",
    "nueva_fila = {\n",
    "    'Store': 6,\n",
    "    'Date': '2025-02-14',\n",
    "    'Weekly_Sales': 12345.67,\n",
    "    'Holiday_Flag': 0,\n",
    "    'Temperature': 75.5,\n",
    "    'Fuel_Price': 3.46,\n",
    "    'CPI': 220.25,\n",
    "    'Unemployment': 5.1\n",
    "}\n",
    "\n",
    "# Ruta del archivo CSV\n",
    "ruta_csv = r'C:\\Users\\Usuario\\Desktop\\Auto.P\\Walmart_Sales.csv'\n",
    "\n",
    "# Leer el archivo CSV en un DataFrame\n",
    "df = pd.read_csv(ruta_csv)\n",
    "\n",
    "# Crear un DataFrame para la nueva fila\n",
    "df_nueva_fila = pd.DataFrame([nueva_fila])\n",
    "\n",
    "# Agregar la nueva fila al DataFrame existente usando concat\n",
    "df_fila_agregada = pd.concat([df, df_nueva_fila], ignore_index=True)\n",
    "\n",
    "# Guardar el DataFrame actualizado en el archivo CSV\n",
    "df_fila_agregada.to_csv(ruta_csv, index=False)\n",
    "\n",
    "print(\"Fila agregada exitosamente.\")"
   ]
  }
 ],
 "metadata": {
  "kernelspec": {
   "display_name": "Python 3",
   "language": "python",
   "name": "python3"
  },
  "language_info": {
   "codemirror_mode": {
    "name": "ipython",
    "version": 3
   },
   "file_extension": ".py",
   "mimetype": "text/x-python",
   "name": "python",
   "nbconvert_exporter": "python",
   "pygments_lexer": "ipython3",
   "version": "3.13.0"
  }
 },
 "nbformat": 4,
 "nbformat_minor": 2
}
